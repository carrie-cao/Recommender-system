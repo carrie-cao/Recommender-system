{
 "cells": [
  {
   "cell_type": "code",
   "execution_count": null,
   "metadata": {},
   "outputs": [],
   "source": [
    "# %load script.py\n",
    "#!/usr/bin/env python\n",
    "\n",
    "# In[3]:\n",
    "\n",
    "\n",
    "import http.client\n",
    "import json\n",
    "import csv\n",
    "import time\n",
    "s=''\n",
    "conn = http.client.HTTPSConnection(\"api.themoviedb.org\")\n",
    "payload = \"{}\"\n",
    "for i in range(1,19):\n",
    "    conn.request(\"GET\",\"/3/discover/movie?with_genres=18&primary_release_year=2004&page={}&include_video=false&include_adult=false&sort_by=popularity.desc&api_key=MyKey\".format(i))\n",
    "    res= conn.getresponse()\n",
    "    data= res.read()\n",
    "    str=data.decode(\"utf-8\") \n",
    "    s+=str\n",
    "\n",
    "\n",
    "s1 = s.replace(\"}{\", \"},{\")\n",
    "s1_s = u\"[%s]\" % s1\n",
    "s1_j=json.loads(s1_s)\n",
    "mid=[]\n",
    "title=[]\n",
    "for f in s1_j: \n",
    "    for d in f['results']: \n",
    "        mid.append(d['id'])\n",
    "        title.append(d['title'])\n",
    "        with open('movie_ID_name.csv',\"w\",newline='') as infile:\n",
    "            writer = csv.writer(infile)\n",
    "            for i in zip(mid[:350], title[:350]):\n",
    "                writer.writerow(i)        \n",
    "\n",
    "time.sleep(5)"
   ]
  },
  {
   "cell_type": "code",
   "execution_count": null,
   "metadata": {},
   "outputs": [],
   "source": [
    "# In[4]:\n",
    "\n",
    "\n",
    "#1.1c\n",
    "\n",
    "smid=[]\n",
    "conn = http.client.HTTPSConnection(\"api.themoviedb.org\")\n",
    "\n",
    "for x in mid[:350]:\n",
    "    conn.request(\"GET\",  \"/3/movie/{}/similar?&api_key=MyKey\".format(x))\n",
    "    ress= conn.getresponse()\n",
    "    datas= ress.read()\n",
    "    strs=datas.decode(\"utf-8\")     \n",
    "    s1s_j=json.loads(strs)\n",
    "    \n",
    "    time.sleep(.28)\n",
    "    mids=[]\n",
    "    for y in s1s_j['results']:        \n",
    "        mids.append(y['id'])\n",
    "        mids5=mids[:5]\n",
    "        xid=[x]*len(mids5)\n",
    "        smid+=list(zip(xid,mids5))\n",
    "        \n",
    "datass = {tuple(sorted(item, reverse=True)) for item in smid}\n",
    "with open('movie_ID_sim_movie_ID.csv',\"w\",newline='') as f:\n",
    "            writer = csv.writer(f)\n",
    "            for z in datass:\n",
    "                writer.writerow(z)      \n",
    "\n",
    "   \n",
    "\n",
    "\n",
    "# In[ ]:"
   ]
  },
  {
   "cell_type": "code",
   "execution_count": null,
   "metadata": {},
   "outputs": [],
   "source": [
    "#https://api.themoviedb.org/3/movie/6575/similar?api_key=mykey&language=en-US\n",
    "#https://developers.themoviedb.org/3/movies/get-similar-movies\n",
    "#https://api.themoviedb.org/3/discover/movie?api_key=MyKey&language=en-US&sort_by=popularity.desc&include_adult=false&include_video=false&primary_release_year=2004&with_genres=18\n",
    "#https://developers.themoviedb.org/3/discover/movie-discover"
   ]
  }
 ],
 "metadata": {
  "kernelspec": {
   "display_name": "Python 3",
   "language": "python",
   "name": "python3"
  },
  "language_info": {
   "codemirror_mode": {
    "name": "ipython",
    "version": 3
   },
   "file_extension": ".py",
   "mimetype": "text/x-python",
   "name": "python",
   "nbconvert_exporter": "python",
   "pygments_lexer": "ipython3",
   "version": "3.7.6"
  }
 },
 "nbformat": 4,
 "nbformat_minor": 4
}
